{
 "cells": [
  {
   "cell_type": "code",
   "execution_count": 1,
   "metadata": {},
   "outputs": [],
   "source": [
    "import openai\n",
    "\n",
    "# 저장해둔 api key 불러옴\n",
    "key_file = open(\"chatgpt_api_key.txt\", \"r\")\n",
    "key_data = key_file.read()\n",
    "key_file.close()  \n",
    "\n",
    "# 발급받은 API 키 설정\n",
    "OPENAI_API_KEY = key_data\n",
    "\n",
    "# openai API 키 인증\n",
    "openai.api_key = OPENAI_API_KEY\n"
   ]
  },
  {
   "cell_type": "code",
   "execution_count": 10,
   "metadata": {},
   "outputs": [
    {
     "name": "stdout",
     "output_type": "stream",
     "text": [
      "User's input was I don't wnat to workout now!\n",
      "\n",
      "Just start with a small and simple workout, it will make you feel better and increase your energy level. Trust the process and get moving!\n",
      "\n"
     ]
    }
   ],
   "source": [
    "def before_chat(inp, role = \"user\"):\n",
    "    message_history = [{\"role\": \"system\", \"content\": f\"When you reply, user do not want to workout\"}]\n",
    "    message_history.append({\"role\": \"system\", \"content\": f\"You are specialized in workout motivation, and you will reply very short.\"})\n",
    "    message_history.append({\"role\" : role, \"content\" : inp})\n",
    "\n",
    "    completion = openai.ChatCompletion.create(\n",
    "        model = \"gpt-3.5-turbo\",\n",
    "        messages = message_history,\n",
    "    )\n",
    "    \n",
    "    reply_content = completion.choices[0].message.content\n",
    "    print(reply_content)\n",
    "    message_history.append({\"role\" : \"user\", \"content\" : reply_content})\n",
    "    return reply_content\n",
    "\n",
    "for i in range(1):\n",
    "    user_input = \"I don't wnat to workout now!\"\n",
    "    # user_input = input(\"> : \")\n",
    "    print(\"User's input was\", user_input)\n",
    "    print()\n",
    "    before_chat(user_input)\n",
    "    print()\n",
    "\n"
   ]
  },
  {
   "cell_type": "code",
   "execution_count": 31,
   "metadata": {},
   "outputs": [
    {
     "name": "stdout",
     "output_type": "stream",
     "text": [
      "User's input was please make me motivative to reach my goals.\n",
      "\n",
      "You got this! Keep pushing yourself, one day at a time. Remember, each small step you take towards your goal is progress. Focus on your why and let it drive you to succeed. Keep up the good work!\n",
      "\n"
     ]
    }
   ],
   "source": [
    "def progress_chat(inp, role = \"user\"):\n",
    "    message_history = [{\"role\": \"system\", \"content\": f\"When you reply, user is working out.\"}]\n",
    "    message_history.append({\"role\": \"system\", \"content\": f\"You are specialized in workout motivation, and you will can reply just only one sentence.\"})\n",
    "    message_history.append({\"role\" : role, \"content\" : inp})\n",
    "\n",
    "    completion = openai.ChatCompletion.create(\n",
    "        model = \"gpt-3.5-turbo\",\n",
    "        messages = message_history,\n",
    "    )\n",
    "    \n",
    "    reply_content = completion.choices[0].message.content\n",
    "    print(reply_content)\n",
    "    message_history.append({\"role\" : \"user\", \"content\" : reply_content})\n",
    "    return reply_content\n",
    "\n",
    "for i in range(1):\n",
    "    user_input = \"please make me motivative to reach my goals.\"\n",
    "    # user_input = input(\"> : \")\n",
    "    print(\"User's input was\", user_input)\n",
    "    print()\n",
    "    before_chat(user_input)\n",
    "    print()"
   ]
  }
 ],
 "metadata": {
  "kernelspec": {
   "display_name": "DL",
   "language": "python",
   "name": "python3"
  },
  "language_info": {
   "codemirror_mode": {
    "name": "ipython",
    "version": 3
   },
   "file_extension": ".py",
   "mimetype": "text/x-python",
   "name": "python",
   "nbconvert_exporter": "python",
   "pygments_lexer": "ipython3",
   "version": "3.9.13"
  },
  "orig_nbformat": 4
 },
 "nbformat": 4,
 "nbformat_minor": 2
}
